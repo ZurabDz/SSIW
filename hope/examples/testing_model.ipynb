{
 "cells": [
  {
   "cell_type": "code",
   "execution_count": null,
   "metadata": {},
   "outputs": [],
   "source": [
    "from hope.models.segmodel import SegModel\n",
    "import torch\n",
    "from hope.utils.embed import create_embs_from_names\n",
    "import cv2\n",
    "from hope.utils.transform_utils import resize_by_scaled_short_side\n",
    "import json\n",
    "from hope.utils.transform_utils import single_scale_single_crop_cuda\n"
   ]
  },
  {
   "cell_type": "code",
   "execution_count": null,
   "metadata": {},
   "outputs": [],
   "source": [
    "model = SegModel(criterions=None,\n",
    "                     num_classes=512,\n",
    "                     load_imagenet_model=False, imagenet_ckpt_fpath='')\n",
    "\n",
    "\n",
    "model = model.eval()\n",
    "\n",
    "model = torch.nn.DataParallel(model)\n"
   ]
  },
  {
   "cell_type": "code",
   "execution_count": null,
   "metadata": {},
   "outputs": [],
   "source": [
    "checkpoint = torch.load('/home/penguin/SSIW/data/model/segformer_7data.pth', map_location='cpu')['state_dict']\n",
    "ckpt_filter = {k: v for k, v in checkpoint.items() if 'criterion.0.criterion.weight' not in k}\n",
    "maybe_errors = model.load_state_dict(ckpt_filter, strict=False)"
   ]
  },
  {
   "cell_type": "code",
   "execution_count": null,
   "metadata": {},
   "outputs": [],
   "source": [
    "model = model.to('cuda')"
   ]
  },
  {
   "cell_type": "code",
   "execution_count": null,
   "metadata": {},
   "outputs": [],
   "source": [
    "with open('/home/penguin/SSIW/Test_Minist/cmp_dataset_desc.json', 'r', encoding='utf-8') as f:\n",
    "    new_definitions = json.load(f)"
   ]
  },
  {
   "cell_type": "code",
   "execution_count": null,
   "metadata": {},
   "outputs": [],
   "source": [
    "user_label = ['background','facade','window','door', 'cornice', 'sill', 'balcony', 'blind','deco', 'molding', 'pillar', 'shop', 'unlabel']"
   ]
  },
  {
   "cell_type": "code",
   "execution_count": null,
   "metadata": {},
   "outputs": [],
   "source": [
    "gt_embs_list = create_embs_from_names(user_label, new_definitions).float()"
   ]
  },
  {
   "cell_type": "code",
   "execution_count": null,
   "metadata": {},
   "outputs": [],
   "source": [
    "rgb = cv2.imread('/home/penguin/SSIW/data/base/cmp_b0001.jpg', -1)[:, :, ::-1]"
   ]
  },
  {
   "cell_type": "code",
   "execution_count": null,
   "metadata": {},
   "outputs": [],
   "source": [
    "image_resized = resize_by_scaled_short_side(rgb, 720, 1)\n",
    "h, w, _ = rgb.shape"
   ]
  },
  {
   "cell_type": "code",
   "execution_count": null,
   "metadata": {},
   "outputs": [],
   "source": [
    "out_logit, emb = single_scale_single_crop_cuda(model, image_resized, h, w, gt_embs_list=gt_embs_list, args=None)"
   ]
  },
  {
   "cell_type": "code",
   "execution_count": null,
   "metadata": {},
   "outputs": [],
   "source": [
    "import numpy as np"
   ]
  },
  {
   "cell_type": "code",
   "execution_count": null,
   "metadata": {},
   "outputs": [],
   "source": [
    "id_to_label = {i: v for i, v in enumerate(user_label)}\n",
    "id_to_label[255] = 'unlabel'"
   ]
  },
  {
   "cell_type": "code",
   "execution_count": null,
   "metadata": {},
   "outputs": [],
   "source": [
    "prediction.shape"
   ]
  },
  {
   "cell_type": "code",
   "execution_count": null,
   "metadata": {},
   "outputs": [],
   "source": [
    "prediction"
   ]
  },
  {
   "cell_type": "code",
   "execution_count": null,
   "metadata": {},
   "outputs": [],
   "source": [
    "prediction = out_logit.argmax(axis=-1).squeeze()   # (h, w)\n",
    "probs = out_logit.max(axis=-1).squeeze()  # (h, w)\n",
    "high_prob_mask = probs > 0.5\n",
    "\n",
    "mask = high_prob_mask\n",
    "prediction[~mask] = 255\n",
    "\n",
    "labels = np.unique(prediction)\n",
    "label_names = {i: id_to_label[i] for i in labels}\n",
    "# label_names = [id_to_label[i] for i in labels]\n",
    "print()\n",
    "print(f'label_names for img', label_names)"
   ]
  },
  {
   "cell_type": "code",
   "execution_count": null,
   "metadata": {},
   "outputs": [],
   "source": [
    "id_to_label"
   ]
  },
  {
   "cell_type": "code",
   "execution_count": null,
   "metadata": {},
   "outputs": [],
   "source": [
    "prediction.shape"
   ]
  },
  {
   "cell_type": "code",
   "execution_count": null,
   "metadata": {},
   "outputs": [],
   "source": [
    "import torch.nn as nn\n",
    "import torch"
   ]
  },
  {
   "cell_type": "code",
   "execution_count": null,
   "metadata": {},
   "outputs": [],
   "source": [
    "loss = nn.CrossEntropyLoss()"
   ]
  },
  {
   "cell_type": "code",
   "execution_count": null,
   "metadata": {},
   "outputs": [],
   "source": [
    "input = torch.randn(3, 5, requires_grad=True)\n",
    "target = torch.empty(3, dtype=torch.long).random_(5)\n",
    "output = loss(input, target)\n",
    "output.backward()"
   ]
  },
  {
   "cell_type": "code",
   "execution_count": null,
   "metadata": {},
   "outputs": [],
   "source": [
    "target"
   ]
  },
  {
   "cell_type": "code",
   "execution_count": null,
   "metadata": {},
   "outputs": [],
   "source": [
    "input"
   ]
  },
  {
   "cell_type": "code",
   "execution_count": null,
   "metadata": {},
   "outputs": [],
   "source": [
    "import xml.etree.ElementTree as ET\n",
    "from dataclasses import dataclass\n",
    "\n",
    "\n",
    "@dataclass\n",
    "class Point:\n",
    "    x1: float\n",
    "    x2: float\n",
    "    y1: float\n",
    "    y2: float\n",
    "\n",
    "\n",
    "@dataclass\n",
    "class ObjectMetadata:\n",
    "    points: Point\n",
    "    label: int\n",
    "    label_name: str\n",
    "    flag: int\n",
    "\n",
    "\n",
    "def parse_cmp_string_xml(chunk: list):\n",
    "    et = ET.fromstring(' '.join(chunk))\n",
    "\n",
    "    points, label, labelname, flag = list(et)\n",
    "    points = [float(point.text.strip()) for point in points]\n",
    "    label = int(label.text.strip())\n",
    "    labelname = labelname.text.strip()\n",
    "    flag = int(flag.text.strip())\n",
    "\n",
    "    return ObjectMetadata(Point(*points), label, labelname, flag)\n",
    "\n",
    "\n",
    "def parse_cmp_xml(file_path):\n",
    "    with open(file_path, 'r', encoding='utf-8') as f:\n",
    "        data = f.readlines()\n",
    "\n",
    "    metadatas = []\n",
    "    chunk = []\n",
    "\n",
    "    for element in data:\n",
    "        if element.startswith('</object>'):\n",
    "            chunk.append(element)\n",
    "            metadata = parse_cmp_string_xml(chunk)\n",
    "            chunk.clear()\n",
    "            metadatas.append(metadata)\n",
    "        else:\n",
    "            chunk.append(element)\n",
    "\n",
    "    return metadatas"
   ]
  },
  {
   "cell_type": "code",
   "execution_count": null,
   "metadata": {},
   "outputs": [],
   "source": [
    "metadatas = parse_cmp_xml('/home/penguin/SSIW/data/base/cmp_b0002.xml')"
   ]
  },
  {
   "cell_type": "code",
   "execution_count": null,
   "metadata": {},
   "outputs": [],
   "source": [
    "obj = metadatas[1]"
   ]
  },
  {
   "cell_type": "code",
   "execution_count": null,
   "metadata": {},
   "outputs": [],
   "source": [
    "obj"
   ]
  },
  {
   "cell_type": "code",
   "execution_count": null,
   "metadata": {},
   "outputs": [],
   "source": [
    "from PIL import Image, ImageDraw\n",
    "\n",
    "# Load the image"
   ]
  },
  {
   "cell_type": "code",
   "execution_count": null,
   "metadata": {},
   "outputs": [],
   "source": [
    "img = Image.open(\"/home/penguin/SSIW/data/base/cmp_b0002.jpg\")"
   ]
  },
  {
   "cell_type": "code",
   "execution_count": null,
   "metadata": {},
   "outputs": [],
   "source": [
    "width, height = 398, 1024"
   ]
  },
  {
   "cell_type": "code",
   "execution_count": null,
   "metadata": {},
   "outputs": [],
   "source": [
    "obj.points.x1 *= width\n",
    "obj.points.x2 *= width\n",
    "obj.points.y1 *= height\n",
    "obj.points.y2 *= height\n"
   ]
  },
  {
   "cell_type": "code",
   "execution_count": null,
   "metadata": {},
   "outputs": [],
   "source": [
    "obj"
   ]
  },
  {
   "cell_type": "code",
   "execution_count": null,
   "metadata": {},
   "outputs": [],
   "source": [
    "from PIL import Image, ImageDraw\n",
    "\n",
    "# Define the rectangle coordinates\n",
    "x0, y0 = obj.points.x1, obj.points.y1\n",
    "x1, y1 = obj.points.x2, obj.points.y2\n",
    "\n",
    "# Draw the rectangle\n",
    "draw = ImageDraw.Draw(img)\n",
    "draw.rectangle((x0, y0, x1, y1), outline=\"red\")\n",
    "\n",
    "# Show the image\n",
    "img.show()"
   ]
  },
  {
   "cell_type": "code",
   "execution_count": null,
   "metadata": {},
   "outputs": [],
   "source": [
    "import cv2 \n",
    "   \n",
    "# path \n",
    "path = r'/home/penguin/SSIW/data/base/cmp_b0001.jpg'\n",
    "   \n",
    "# Reading an image in default mode\n",
    "image = cv2.imread(path)"
   ]
  },
  {
   "cell_type": "code",
   "execution_count": null,
   "metadata": {},
   "outputs": [],
   "source": [
    "start_point = (int(obj.points.x1), int(obj.points.x2))\n",
    "  \n",
    "# Ending coordinate, here (220, 220)\n",
    "# represents the bottom right corner of rectangle\n",
    "end_point = (int(obj.points.y1), int(obj.points.y2))\n",
    "  \n",
    "# Blue color in BGR\n",
    "color = (255, 0, 0)\n",
    "  \n",
    "# Line thickness of 2 px\n",
    "thickness = 2\n",
    "  \n",
    "# Using cv2.rectangle() method\n",
    "# Draw a rectangle with blue line borders of thickness of 2 px\n",
    "image = cv2.rectangle(image, start_point, end_point, color, thickness)"
   ]
  },
  {
   "cell_type": "markdown",
   "metadata": {},
   "source": [
    "cv2.imshow('test', image)"
   ]
  },
  {
   "cell_type": "code",
   "execution_count": null,
   "metadata": {},
   "outputs": [],
   "source": [
    "from hope.dataset.dataset import CMPFacadeDataset"
   ]
  },
  {
   "cell_type": "code",
   "execution_count": null,
   "metadata": {},
   "outputs": [],
   "source": []
  },
  {
   "cell_type": "code",
   "execution_count": null,
   "metadata": {},
   "outputs": [],
   "source": []
  },
  {
   "cell_type": "code",
   "execution_count": null,
   "metadata": {},
   "outputs": [],
   "source": []
  },
  {
   "cell_type": "code",
   "execution_count": null,
   "metadata": {},
   "outputs": [],
   "source": []
  },
  {
   "cell_type": "code",
   "execution_count": null,
   "metadata": {},
   "outputs": [],
   "source": []
  },
  {
   "cell_type": "code",
   "execution_count": null,
   "metadata": {},
   "outputs": [],
   "source": []
  },
  {
   "cell_type": "code",
   "execution_count": null,
   "metadata": {},
   "outputs": [],
   "source": []
  },
  {
   "cell_type": "code",
   "execution_count": null,
   "metadata": {},
   "outputs": [],
   "source": []
  },
  {
   "cell_type": "code",
   "execution_count": null,
   "metadata": {},
   "outputs": [],
   "source": []
  },
  {
   "cell_type": "code",
   "execution_count": null,
   "metadata": {},
   "outputs": [],
   "source": []
  },
  {
   "cell_type": "code",
   "execution_count": null,
   "metadata": {},
   "outputs": [],
   "source": []
  },
  {
   "cell_type": "code",
   "execution_count": null,
   "metadata": {},
   "outputs": [],
   "source": []
  },
  {
   "cell_type": "code",
   "execution_count": null,
   "metadata": {},
   "outputs": [],
   "source": []
  }
 ],
 "metadata": {
  "kernelspec": {
   "display_name": "research",
   "language": "python",
   "name": "python3"
  },
  "language_info": {
   "codemirror_mode": {
    "name": "ipython",
    "version": 3
   },
   "file_extension": ".py",
   "mimetype": "text/x-python",
   "name": "python",
   "nbconvert_exporter": "python",
   "pygments_lexer": "ipython3",
   "version": "3.8.15"
  },
  "orig_nbformat": 4,
  "vscode": {
   "interpreter": {
    "hash": "31bef8f0e01d86822998708cae530d3f279653869977ee7676ea73d628f47b0c"
   }
  }
 },
 "nbformat": 4,
 "nbformat_minor": 2
}
