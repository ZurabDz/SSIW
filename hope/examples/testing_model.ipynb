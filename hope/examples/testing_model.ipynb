{
 "cells": [
  {
   "cell_type": "code",
   "execution_count": 6,
   "metadata": {},
   "outputs": [],
   "source": [
    "from hope.dataset.dataset import CMPFacadeDataset\n",
    "from hope.models.hope import HopeModel"
   ]
  },
  {
   "cell_type": "code",
   "execution_count": 8,
   "metadata": {},
   "outputs": [],
   "source": [
    "model = HopeModel(512)"
   ]
  },
  {
   "cell_type": "code",
   "execution_count": 2,
   "metadata": {},
   "outputs": [],
   "source": [
    "dataset = CMPFacadeDataset('/home/penguin/SSIW/data/base')"
   ]
  },
  {
   "cell_type": "code",
   "execution_count": 9,
   "metadata": {},
   "outputs": [],
   "source": [
    "for e in dataset:\n",
    "    image, mask = e\n",
    "    break"
   ]
  },
  {
   "cell_type": "code",
   "execution_count": 10,
   "metadata": {},
   "outputs": [],
   "source": [
    "logit, embed = model(image)"
   ]
  },
  {
   "cell_type": "code",
   "execution_count": 11,
   "metadata": {},
   "outputs": [
    {
     "data": {
      "text/plain": [
       "torch.Size([1, 512, 736, 960])"
      ]
     },
     "execution_count": 11,
     "metadata": {},
     "output_type": "execute_result"
    }
   ],
   "source": [
    "embed.shape"
   ]
  },
  {
   "cell_type": "code",
   "execution_count": 4,
   "metadata": {},
   "outputs": [
    {
     "data": {
      "text/plain": [
       "(448, 583, 3)"
      ]
     },
     "execution_count": 4,
     "metadata": {},
     "output_type": "execute_result"
    }
   ],
   "source": [
    "image.shape"
   ]
  },
  {
   "cell_type": "code",
   "execution_count": 5,
   "metadata": {},
   "outputs": [
    {
     "data": {
      "text/plain": [
       "torch.Size([14, 448, 583])"
      ]
     },
     "execution_count": 5,
     "metadata": {},
     "output_type": "execute_result"
    }
   ],
   "source": [
    "mask.shape"
   ]
  },
  {
   "cell_type": "code",
   "execution_count": null,
   "metadata": {},
   "outputs": [],
   "source": []
  },
  {
   "cell_type": "code",
   "execution_count": null,
   "metadata": {},
   "outputs": [],
   "source": []
  },
  {
   "cell_type": "code",
   "execution_count": null,
   "metadata": {},
   "outputs": [],
   "source": []
  },
  {
   "cell_type": "code",
   "execution_count": null,
   "metadata": {},
   "outputs": [],
   "source": []
  },
  {
   "cell_type": "code",
   "execution_count": null,
   "metadata": {},
   "outputs": [],
   "source": []
  },
  {
   "cell_type": "code",
   "execution_count": null,
   "metadata": {},
   "outputs": [],
   "source": [
    "from hope.models.segmodel import SegModel\n",
    "import torch\n",
    "from hope.utils.embed import create_embs_from_names\n",
    "import cv2\n",
    "from hope.utils.transform_utils import resize_by_scaled_short_side\n",
    "import json\n",
    "from hope.utils.transform_utils import single_scale_single_crop_cuda\n"
   ]
  },
  {
   "cell_type": "code",
   "execution_count": null,
   "metadata": {},
   "outputs": [],
   "source": [
    "model = SegModel(criterions=None,\n",
    "                     num_classes=512,\n",
    "                     load_imagenet_model=False, imagenet_ckpt_fpath='')\n",
    "\n",
    "\n",
    "model = model.eval()\n",
    "\n",
    "model = torch.nn.DataParallel(model)\n"
   ]
  },
  {
   "cell_type": "code",
   "execution_count": null,
   "metadata": {},
   "outputs": [],
   "source": [
    "checkpoint = torch.load('/home/penguin/SSIW/data/model/segformer_7data.pth', map_location='cpu')['state_dict']\n",
    "ckpt_filter = {k: v for k, v in checkpoint.items() if 'criterion.0.criterion.weight' not in k}\n",
    "maybe_errors = model.load_state_dict(ckpt_filter, strict=False)"
   ]
  },
  {
   "cell_type": "code",
   "execution_count": null,
   "metadata": {},
   "outputs": [],
   "source": [
    "model = model.to('cuda')"
   ]
  },
  {
   "cell_type": "code",
   "execution_count": null,
   "metadata": {},
   "outputs": [],
   "source": [
    "with open('/home/penguin/SSIW/Test_Minist/cmp_dataset_desc.json', 'r', encoding='utf-8') as f:\n",
    "    new_definitions = json.load(f)"
   ]
  },
  {
   "cell_type": "code",
   "execution_count": null,
   "metadata": {},
   "outputs": [],
   "source": [
    "user_label = ['background','facade','window','door', 'cornice', 'sill', 'balcony', 'blind','deco', 'molding', 'pillar', 'shop', 'unlabel']"
   ]
  },
  {
   "cell_type": "code",
   "execution_count": null,
   "metadata": {},
   "outputs": [],
   "source": [
    "gt_embs_list = create_embs_from_names(user_label, new_definitions).float()"
   ]
  },
  {
   "cell_type": "code",
   "execution_count": null,
   "metadata": {},
   "outputs": [],
   "source": [
    "rgb = cv2.imread('/home/penguin/SSIW/data/base/cmp_b0001.jpg', -1)[:, :, ::-1]"
   ]
  },
  {
   "cell_type": "code",
   "execution_count": null,
   "metadata": {},
   "outputs": [],
   "source": [
    "image_resized = resize_by_scaled_short_side(rgb, 720, 1)\n",
    "h, w, _ = rgb.shape"
   ]
  },
  {
   "cell_type": "code",
   "execution_count": null,
   "metadata": {},
   "outputs": [],
   "source": [
    "out_logit, emb = single_scale_single_crop_cuda(model, image_resized, h, w, gt_embs_list=gt_embs_list, args=None)"
   ]
  },
  {
   "cell_type": "code",
   "execution_count": null,
   "metadata": {},
   "outputs": [],
   "source": [
    "import numpy as np"
   ]
  },
  {
   "cell_type": "code",
   "execution_count": null,
   "metadata": {},
   "outputs": [],
   "source": [
    "id_to_label = {i: v for i, v in enumerate(user_label)}\n",
    "id_to_label[255] = 'unlabel'"
   ]
  },
  {
   "cell_type": "code",
   "execution_count": null,
   "metadata": {},
   "outputs": [],
   "source": [
    "prediction.shape"
   ]
  },
  {
   "cell_type": "code",
   "execution_count": null,
   "metadata": {},
   "outputs": [],
   "source": [
    "prediction"
   ]
  },
  {
   "cell_type": "code",
   "execution_count": null,
   "metadata": {},
   "outputs": [],
   "source": [
    "prediction = out_logit.argmax(axis=-1).squeeze()   # (h, w)\n",
    "probs = out_logit.max(axis=-1).squeeze()  # (h, w)\n",
    "high_prob_mask = probs > 0.5\n",
    "\n",
    "mask = high_prob_mask\n",
    "prediction[~mask] = 255\n",
    "\n",
    "labels = np.unique(prediction)\n",
    "label_names = {i: id_to_label[i] for i in labels}\n",
    "# label_names = [id_to_label[i] for i in labels]\n",
    "print()\n",
    "print(f'label_names for img', label_names)"
   ]
  },
  {
   "cell_type": "code",
   "execution_count": null,
   "metadata": {},
   "outputs": [],
   "source": [
    "id_to_label"
   ]
  },
  {
   "cell_type": "code",
   "execution_count": null,
   "metadata": {},
   "outputs": [],
   "source": [
    "prediction.shape"
   ]
  },
  {
   "cell_type": "code",
   "execution_count": null,
   "metadata": {},
   "outputs": [],
   "source": [
    "import torch.nn as nn\n",
    "import torch"
   ]
  },
  {
   "cell_type": "code",
   "execution_count": null,
   "metadata": {},
   "outputs": [],
   "source": [
    "loss = nn.CrossEntropyLoss()"
   ]
  },
  {
   "cell_type": "code",
   "execution_count": null,
   "metadata": {},
   "outputs": [],
   "source": [
    "input = torch.randn(3, 5, requires_grad=True)\n",
    "target = torch.empty(3, dtype=torch.long).random_(5)\n",
    "output = loss(input, target)\n",
    "output.backward()"
   ]
  },
  {
   "cell_type": "code",
   "execution_count": null,
   "metadata": {},
   "outputs": [],
   "source": [
    "target"
   ]
  },
  {
   "cell_type": "code",
   "execution_count": null,
   "metadata": {},
   "outputs": [],
   "source": [
    "input"
   ]
  },
  {
   "cell_type": "code",
   "execution_count": 1,
   "metadata": {},
   "outputs": [
    {
     "name": "stderr",
     "output_type": "stream",
     "text": [
      "/home/penguin/miniconda3/envs/research/lib/python3.8/site-packages/mmcv/__init__.py:20: UserWarning: On January 1, 2023, MMCV will release v2.0.0, in which it will remove components related to the training process and add a data transformation module. In addition, it will rename the package names mmcv to mmcv-lite and mmcv-full to mmcv. See https://github.com/open-mmlab/mmcv/blob/master/docs/en/compatibility.md for more details.\n",
      "  warnings.warn(\n"
     ]
    }
   ],
   "source": [
    "from hope.models.hope import HopeModel\n",
    "from hope.dataset.dataset import CMPFacadeDataset"
   ]
  },
  {
   "cell_type": "code",
   "execution_count": 2,
   "metadata": {},
   "outputs": [],
   "source": [
    "model = HopeModel()"
   ]
  },
  {
   "cell_type": "code",
   "execution_count": 3,
   "metadata": {},
   "outputs": [],
   "source": [
    "dataset = CMPFacadeDataset('/home/penguin/SSIW/data/base')"
   ]
  },
  {
   "cell_type": "code",
   "execution_count": 4,
   "metadata": {},
   "outputs": [],
   "source": [
    "out_logits, embed =model(dataset[0][0])"
   ]
  },
  {
   "cell_type": "code",
   "execution_count": null,
   "metadata": {},
   "outputs": [],
   "source": [
    "def generate_label(image_path, metadata):\n",
    "    path = r'/home/penguin/SSIW/data/base/cmp_b0001.jpg'\n",
    "    image = cv2.imread(path)"
   ]
  },
  {
   "cell_type": "code",
   "execution_count": 9,
   "metadata": {},
   "outputs": [],
   "source": [
    "import cv2"
   ]
  },
  {
   "cell_type": "code",
   "execution_count": 28,
   "metadata": {},
   "outputs": [],
   "source": [
    "num_class = 12\n",
    "path = r'/home/penguin/SSIW/data/base/cmp_b0346.jpg'\n",
    "image = cv2.imread(path)\n",
    "height, width, _ = image.shape"
   ]
  },
  {
   "cell_type": "code",
   "execution_count": 77,
   "metadata": {},
   "outputs": [],
   "source": [
    "import torch"
   ]
  },
  {
   "cell_type": "code",
   "execution_count": 78,
   "metadata": {},
   "outputs": [],
   "source": [
    "mask = torch.zeros((num_class + 1, height, width))"
   ]
  },
  {
   "cell_type": "code",
   "execution_count": 79,
   "metadata": {},
   "outputs": [
    {
     "data": {
      "text/plain": [
       "tensor([[1., 1., 1.,  ..., 1., 1., 1.],\n",
       "        [1., 1., 1.,  ..., 1., 1., 1.],\n",
       "        [1., 1., 1.,  ..., 1., 1., 1.],\n",
       "        ...,\n",
       "        [1., 1., 1.,  ..., 1., 1., 1.],\n",
       "        [1., 1., 1.,  ..., 1., 1., 1.],\n",
       "        [1., 1., 1.,  ..., 1., 1., 1.]])"
      ]
     },
     "execution_count": 79,
     "metadata": {},
     "output_type": "execute_result"
    }
   ],
   "source": [
    "mask[0].fill_(1)"
   ]
  },
  {
   "cell_type": "code",
   "execution_count": 80,
   "metadata": {},
   "outputs": [],
   "source": [
    "for obj_meta in dataset[0][1]:\n",
    "    x1 = round(obj_meta.points.x1 * height)\n",
    "    x2 = round(obj_meta.points.x2 * height)\n",
    "    y1 = round(obj_meta.points.y1 * width)\n",
    "    y2 = round(obj_meta.points.y2 * width)\n",
    "    mask[obj_meta.label][x1:x2+1, y1:y2+1] = 1\n",
    "    mask[0][x1:x2+1, y1:y2+1] = 0"
   ]
  },
  {
   "cell_type": "code",
   "execution_count": 84,
   "metadata": {},
   "outputs": [
    {
     "data": {
      "text/plain": [
       "torch.Size([13, 448, 583])"
      ]
     },
     "execution_count": 84,
     "metadata": {},
     "output_type": "execute_result"
    }
   ],
   "source": [
    "mask.shape"
   ]
  },
  {
   "cell_type": "code",
   "execution_count": 7,
   "metadata": {},
   "outputs": [
    {
     "data": {
      "text/plain": [
       "[ObjectMetadata(points=Point(x1=0.0066964, x2=0.99777, y1=0.06175, y2=0.9777), label=2, label_name='facade', flag=1),\n",
       " ObjectMetadata(points=Point(x1=0.13393, x2=0.19643, y1=0.2813, y2=0.32075), label=3, label_name='window', flag=1),\n",
       " ObjectMetadata(points=Point(x1=0.15848, x2=0.18973, y1=0.14065, y2=0.21441), label=3, label_name='window', flag=1),\n",
       " ObjectMetadata(points=Point(x1=0.13393, x2=0.19643, y1=0.71698, y2=0.75643), label=3, label_name='window', flag=1),\n",
       " ObjectMetadata(points=Point(x1=0.15848, x2=0.18973, y1=0.81647, y2=0.88336), label=3, label_name='window', flag=1),\n",
       " ObjectMetadata(points=Point(x1=0.30804, x2=0.42188, y1=0.16295, y2=0.22298), label=3, label_name='window', flag=1),\n",
       " ObjectMetadata(points=Point(x1=0.3058, x2=0.41964, y1=0.36192, y2=0.42024), label=3, label_name='window', flag=1),\n",
       " ObjectMetadata(points=Point(x1=0.51339, x2=0.6317, y1=0.16295, y2=0.22127), label=3, label_name='window', flag=1),\n",
       " ObjectMetadata(points=Point(x1=0.51339, x2=0.6317, y1=0.36192, y2=0.42196), label=3, label_name='window', flag=1),\n",
       " ObjectMetadata(points=Point(x1=0.72321, x2=0.84598, y1=0.16295, y2=0.22298), label=3, label_name='window', flag=1),\n",
       " ObjectMetadata(points=Point(x1=0.72321, x2=0.84598, y1=0.36364, y2=0.42367), label=3, label_name='window', flag=1),\n",
       " ObjectMetadata(points=Point(x1=0.30804, x2=0.41741, y1=0.49228, y2=0.5506), label=3, label_name='window', flag=1),\n",
       " ObjectMetadata(points=Point(x1=0.3058, x2=0.41964, y1=0.62436, y2=0.68096), label=3, label_name='window', flag=1),\n",
       " ObjectMetadata(points=Point(x1=0.3058, x2=0.45536, y1=0.55918, y2=0.61578), label=3, label_name='window', flag=1),\n",
       " ObjectMetadata(points=Point(x1=0.3192, x2=0.41518, y1=0.80789, y2=0.88165), label=3, label_name='window', flag=1),\n",
       " ObjectMetadata(points=Point(x1=0.52455, x2=0.62054, y1=0.81304, y2=0.88679), label=3, label_name='window', flag=1),\n",
       " ObjectMetadata(points=Point(x1=0.72545, x2=0.83482, y1=0.8199, y2=0.89365), label=3, label_name='window', flag=1),\n",
       " ObjectMetadata(points=Point(x1=0.49554, x2=0.62054, y1=0.54717, y2=0.58491), label=3, label_name='window', flag=1),\n",
       " ObjectMetadata(points=Point(x1=0.49107, x2=0.6183, y1=0.59691, y2=0.63636), label=3, label_name='window', flag=1),\n",
       " ObjectMetadata(points=Point(x1=0.49554, x2=0.62277, y1=0.64494, y2=0.67238), label=3, label_name='window', flag=1),\n",
       " ObjectMetadata(points=Point(x1=0.49777, x2=0.625, y1=0.50257, y2=0.53516), label=3, label_name='window', flag=1),\n",
       " ObjectMetadata(points=Point(x1=0.70759, x2=0.83482, y1=0.54889, y2=0.58834), label=3, label_name='window', flag=1),\n",
       " ObjectMetadata(points=Point(x1=0.70982, x2=0.83705, y1=0.59863, y2=0.63808), label=3, label_name='window', flag=1),\n",
       " ObjectMetadata(points=Point(x1=0.71429, x2=0.84152, y1=0.64837, y2=0.67753), label=3, label_name='window', flag=1),\n",
       " ObjectMetadata(points=Point(x1=0.71429, x2=0.83929, y1=0.50257, y2=0.53859), label=3, label_name='window', flag=1),\n",
       " ObjectMetadata(points=Point(x1=0.32143, x2=0.41295, y1=0.88851, y2=0.91595), label=3, label_name='window', flag=1),\n",
       " ObjectMetadata(points=Point(x1=0.3192, x2=0.41071, y1=0.77358, y2=0.80103), label=3, label_name='window', flag=1),\n",
       " ObjectMetadata(points=Point(x1=0.52232, x2=0.62277, y1=0.89365, y2=0.92281), label=3, label_name='window', flag=1),\n",
       " ObjectMetadata(points=Point(x1=0.52455, x2=0.625, y1=0.77702, y2=0.80617), label=3, label_name='window', flag=1),\n",
       " ObjectMetadata(points=Point(x1=0.72768, x2=0.83036, y1=0.90223, y2=0.93139), label=3, label_name='window', flag=1),\n",
       " ObjectMetadata(points=Point(x1=0.72321, x2=0.83482, y1=0.78388, y2=0.81304), label=3, label_name='window', flag=1),\n",
       " ObjectMetadata(points=Point(x1=0.10938, x2=0.19866, y1=0.46998, y2=0.56604), label=3, label_name='window', flag=1),\n",
       " ObjectMetadata(points=Point(x1=0.011161, x2=0.066964, y1=0.50257, y2=0.53173), label=3, label_name='window', flag=1),\n",
       " ObjectMetadata(points=Point(x1=0.92188, x2=0.97545, y1=0.61407, y2=0.65866), label=3, label_name='window', flag=1),\n",
       " ObjectMetadata(points=Point(x1=0.92188, x2=0.97768, y1=0.53345, y2=0.57804), label=3, label_name='window', flag=1),\n",
       " ObjectMetadata(points=Point(x1=0.91741, x2=0.96875, y1=0.84563, y2=0.87993), label=3, label_name='window', flag=1),\n",
       " ObjectMetadata(points=Point(x1=0.91518, x2=0.96652, y1=0.90051, y2=0.93482), label=3, label_name='window', flag=1),\n",
       " ObjectMetadata(points=Point(x1=0.91741, x2=0.96875, y1=0.79417, y2=0.82847), label=3, label_name='window', flag=1),\n",
       " ObjectMetadata(points=Point(x1=0.92411, x2=0.95536, y1=0.34305, y2=0.37221), label=3, label_name='window', flag=1),\n",
       " ObjectMetadata(points=Point(x1=0.92411, x2=0.95536, y1=0.4048, y2=0.43568), label=3, label_name='window', flag=1),\n",
       " ObjectMetadata(points=Point(x1=0.92857, x2=0.97991, y1=0.14923, y2=0.22642), label=3, label_name='window', flag=1),\n",
       " ObjectMetadata(points=Point(x1=0.62723, x2=0.65402, y1=0.1458, y2=0.23842), label=6, label_name='sill', flag=1),\n",
       " ObjectMetadata(points=Point(x1=0.625, x2=0.65179, y1=0.34477, y2=0.43568), label=6, label_name='sill', flag=1),\n",
       " ObjectMetadata(points=Point(x1=0.83929, x2=0.85714, y1=0.34648, y2=0.43739), label=6, label_name='sill', flag=1),\n",
       " ObjectMetadata(points=Point(x1=0.84152, x2=0.86161, y1=0.1458, y2=0.23842), label=6, label_name='sill', flag=1),\n",
       " ObjectMetadata(points=Point(x1=0.83036, x2=0.85045, y1=0.77873, y2=0.9434), label=6, label_name='sill', flag=1),\n",
       " ObjectMetadata(points=Point(x1=0.38393, x2=0.48438, y1=0.46484, y2=0.70497), label=7, label_name='balcony', flag=1),\n",
       " ObjectMetadata(points=Point(x1=0.1942, x2=0.27679, y1=0.077187, y2=0.96913), label=10, label_name='molding', flag=1),\n",
       " ObjectMetadata(points=Point(x1=0.6808, x2=0.71205, y1=0.073756, y2=0.97256), label=10, label_name='molding', flag=1),\n",
       " ObjectMetadata(points=Point(x1=0.30357, x2=0.67188, y1=0.27959, y2=0.32075), label=11, label_name='pillar', flag=1),\n",
       " ObjectMetadata(points=Point(x1=0.30804, x2=0.67634, y1=0.06518, y2=0.10292), label=11, label_name='pillar', flag=1),\n",
       " ObjectMetadata(points=Point(x1=0.30357, x2=0.64062, y1=0.72556, y2=0.76501), label=11, label_name='pillar', flag=1),\n",
       " ObjectMetadata(points=Point(x1=0.67188, x2=0.69643, y1=0.27444, y2=0.3259), label=11, label_name='pillar', flag=1),\n",
       " ObjectMetadata(points=Point(x1=0.67634, x2=0.6942, y1=0.063465, y2=0.10806), label=11, label_name='pillar', flag=1),\n",
       " ObjectMetadata(points=Point(x1=0.27009, x2=0.30804, y1=0.063465, y2=0.11149), label=11, label_name='pillar', flag=1),\n",
       " ObjectMetadata(points=Point(x1=0.26786, x2=0.30357, y1=0.27101, y2=0.3259), label=11, label_name='pillar', flag=1),\n",
       " ObjectMetadata(points=Point(x1=0.26786, x2=0.30357, y1=0.71527, y2=0.76844), label=11, label_name='pillar', flag=1),\n",
       " ObjectMetadata(points=Point(x1=0.049107, x2=0.12054, y1=0.25729, y2=0.34648), label=5, label_name='cornice', flag=1),\n",
       " ObjectMetadata(points=Point(x1=0.042411, x2=0.12723, y1=0.69125, y2=0.78216), label=5, label_name='cornice', flag=1)]"
      ]
     },
     "execution_count": 7,
     "metadata": {},
     "output_type": "execute_result"
    }
   ],
   "source": [
    "dataset[0][1]"
   ]
  },
  {
   "cell_type": "code",
   "execution_count": 6,
   "metadata": {},
   "outputs": [
    {
     "data": {
      "text/plain": [
       "tensor([[0.0080, 0.0077, 0.0075,  ..., 0.0030, 0.0032, 0.0034],\n",
       "        [0.0084, 0.0081, 0.0078,  ..., 0.0030, 0.0033, 0.0035],\n",
       "        [0.0088, 0.0085, 0.0082,  ..., 0.0031, 0.0034, 0.0037],\n",
       "        ...,\n",
       "        [0.0361, 0.0354, 0.0348,  ..., 0.0353, 0.0349, 0.0344],\n",
       "        [0.0362, 0.0357, 0.0351,  ..., 0.0353, 0.0348, 0.0342],\n",
       "        [0.0364, 0.0359, 0.0354,  ..., 0.0353, 0.0346, 0.0339]],\n",
       "       device='cuda:0')"
      ]
     },
     "execution_count": 6,
     "metadata": {},
     "output_type": "execute_result"
    }
   ],
   "source": [
    "embed"
   ]
  },
  {
   "cell_type": "code",
   "execution_count": 66,
   "metadata": {},
   "outputs": [],
   "source": [
    "import torch\n",
    "\n",
    "# create a random tensor with shape (n, h, w)\n",
    "n, h, w = 5, 10, 10\n",
    "tensor = torch.zeros((n, h, w))\n",
    "\n",
    "# set some random elements to 1 in other dimensions\n",
    "tensor[1, 3, 4] = 1\n",
    "tensor[2, 8, 2] = 1\n",
    "tensor[4, 1, 9] = 1\n",
    "\n",
    "# check if all other elements in the first dimension except for the first one are 0\n",
    "if torch.sum(tensor[1:] != 0) == 0:\n",
    "    # fill (0, h, w) with 1s\n",
    "    tensor[0, h-1, w-1] = 1"
   ]
  }
 ],
 "metadata": {
  "kernelspec": {
   "display_name": "research",
   "language": "python",
   "name": "python3"
  },
  "language_info": {
   "codemirror_mode": {
    "name": "ipython",
    "version": 3
   },
   "file_extension": ".py",
   "mimetype": "text/x-python",
   "name": "python",
   "nbconvert_exporter": "python",
   "pygments_lexer": "ipython3",
   "version": "3.8.15"
  },
  "orig_nbformat": 4,
  "vscode": {
   "interpreter": {
    "hash": "31bef8f0e01d86822998708cae530d3f279653869977ee7676ea73d628f47b0c"
   }
  }
 },
 "nbformat": 4,
 "nbformat_minor": 2
}
